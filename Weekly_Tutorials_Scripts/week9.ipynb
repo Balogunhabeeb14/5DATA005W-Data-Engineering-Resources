{
 "cells": [
  {
   "cell_type": "code",
   "execution_count": 1,
   "metadata": {
    "colab": {
     "base_uri": "https://localhost:8080/"
    },
    "id": "f7inRAeTkj5g",
    "outputId": "dd867c84-a21d-4b7f-923c-da98a4c5e839"
   },
   "outputs": [
    {
     "name": "stdout",
     "output_type": "stream",
     "text": [
      "Collecting pymongo[srv]\n",
      "  Downloading pymongo-4.10.1-cp310-cp310-manylinux_2_17_x86_64.manylinux2014_x86_64.whl.metadata (22 kB)\n",
      "\u001b[33mWARNING: pymongo 4.10.1 does not provide the extra 'srv'\u001b[0m\u001b[33m\n",
      "\u001b[0mCollecting dnspython<3.0.0,>=1.16.0 (from pymongo[srv])\n",
      "  Downloading dnspython-2.7.0-py3-none-any.whl.metadata (5.8 kB)\n",
      "Downloading dnspython-2.7.0-py3-none-any.whl (313 kB)\n",
      "\u001b[2K   \u001b[90m━━━━━━━━━━━━━━━━━━━━━━━━━━━━━━━━━━━━━━━━\u001b[0m \u001b[32m313.6/313.6 kB\u001b[0m \u001b[31m5.2 MB/s\u001b[0m eta \u001b[36m0:00:00\u001b[0m\n",
      "\u001b[?25hDownloading pymongo-4.10.1-cp310-cp310-manylinux_2_17_x86_64.manylinux2014_x86_64.whl (1.4 MB)\n",
      "\u001b[2K   \u001b[90m━━━━━━━━━━━━━━━━━━━━━━━━━━━━━━━━━━━━━━━━\u001b[0m \u001b[32m1.4/1.4 MB\u001b[0m \u001b[31m16.0 MB/s\u001b[0m eta \u001b[36m0:00:00\u001b[0m\n",
      "\u001b[?25hInstalling collected packages: dnspython, pymongo\n",
      "Successfully installed dnspython-2.7.0 pymongo-4.10.1\n"
     ]
    }
   ],
   "source": [
    "pip install \"pymongo[srv]\""
   ]
  },
  {
   "cell_type": "code",
   "execution_count": 3,
   "metadata": {
    "id": "w8Eglwy4lhVK"
   },
   "outputs": [],
   "source": [
    "import pymongo\n",
    "from pymongo import MongoClient"
   ]
  },
  {
   "cell_type": "code",
   "execution_count": null,
   "metadata": {
    "id": "zPryXT_SlEnH"
   },
   "outputs": [],
   "source": [
    "Image_connection = pymongo.MongoClient(\"mongodb+srv://<dbusername>:<dbpassword>@cluster0.4ppxp.mongodb.net/CBIR?retryWrites=true&w=majority\")\n",
    "\n",
    "\n",
    "# Connect to the specified database and collection\n",
    "db = Image_connection[\"CBIR\"]  # Your database name\n"
   ]
  },
  {
   "cell_type": "code",
   "execution_count": 5,
   "metadata": {
    "colab": {
     "base_uri": "https://localhost:8080/"
    },
    "id": "WvHoH7D0yw9p",
    "outputId": "4997ca8d-88e0-491e-c993-3183bae574bf"
   },
   "outputs": [
    {
     "name": "stdout",
     "output_type": "stream",
     "text": [
      "['image_metadata', 'Processed_images']\n"
     ]
    }
   ],
   "source": [
    "# Test the connection by listing collections (optional)\n",
    "try:\n",
    "    print(db.list_collection_names())\n",
    "except Exception as e:\n",
    "    print(f\"Connection failed: {e}\")"
   ]
  },
  {
   "cell_type": "markdown",
   "metadata": {
    "id": "tM04CbvUvfP9"
   },
   "source": [
    "Load the metadata for the images into the image metadata collection in CBIR database"
   ]
  },
  {
   "cell_type": "code",
   "execution_count": 12,
   "metadata": {
    "id": "lYN9DgiNuYAd"
   },
   "outputs": [],
   "source": [
    "#lets do loading of the image metadata to image metadata collection\n",
    "#defined the collection\n",
    "image_metadata_collection = db[\"image_metadata\"]  # Your collection name"
   ]
  },
  {
   "cell_type": "code",
   "execution_count": 13,
   "metadata": {
    "id": "xjUAyrxctgcc"
   },
   "outputs": [],
   "source": [
    "import json\n",
    "# Load JSON metadata file\n",
    "with open('/content/image_metadata.json') as file:\n",
    "    image1_data = json.load(file)\n",
    "\n",
    "# Insert data into MongoDB collection\n",
    "if isinstance(image1_data, list):\n",
    "    image_metadata_collection.insert_many(image1_data)  # For a list of documents\n",
    "else:\n",
    "    image_metadata_collection.insert_one(image1_data)  # For a single document"
   ]
  },
  {
   "cell_type": "markdown",
   "metadata": {
    "id": "RipIVJedvoor"
   },
   "source": [
    "Load the processed images into the image collection in CBIR database"
   ]
  },
  {
   "cell_type": "code",
   "execution_count": 15,
   "metadata": {
    "id": "fzhzumAsvBFj"
   },
   "outputs": [],
   "source": [
    "#lets do loading of the processed image to processed image collection\n",
    "#defined the collection\n",
    "processed_collection = db[\"Processed_images\"]  # Your collection name"
   ]
  },
  {
   "cell_type": "code",
   "execution_count": 16,
   "metadata": {
    "id": "bIHQ4wD3wVwk"
   },
   "outputs": [],
   "source": [
    "import os\n",
    "from bson import Binary\n",
    "\n",
    "# Load and insert images\n",
    "image_folder_path = '/content/Images'\n",
    "\n",
    "for filename in os.listdir(image_folder_path):\n",
    "    if filename.endswith(\".png\") or filename.endswith(\".jpg\"):\n",
    "        with open(os.path.join(image_folder_path, filename), \"rb\") as image_file:\n",
    "            binary_image = Binary(image_file.read())\n",
    "            image_doc = {\n",
    "                \"filename\": filename,\n",
    "                \"image_data\": binary_image\n",
    "            }\n",
    "            processed_collection.insert_one(image_doc)"
   ]
  },
  {
   "cell_type": "code",
   "execution_count": 17,
   "metadata": {
    "colab": {
     "base_uri": "https://localhost:8080/"
    },
    "id": "P6TT5Old1Alb",
    "outputId": "556af94e-93f5-4834-da3b-0cd2b69106c4"
   },
   "outputs": [
    {
     "name": "stdout",
     "output_type": "stream",
     "text": [
      "Image found: Image12.jpg\n"
     ]
    }
   ],
   "source": [
    "# Example query to find an image by filename\n",
    "query = {\"filename\": \"Image12.jpg\"}\n",
    "image_document = processed_collection.find_one(query)\n",
    "\n",
    "if image_document:\n",
    "    print(\"Image found:\", image_document[\"filename\"])\n",
    "else:\n",
    "    print(\"No image found with the specified criteria.\")"
   ]
  },
  {
   "cell_type": "markdown",
   "metadata": {
    "id": "mA94l6CTt_9X"
   },
   "source": [
    "Text data storage"
   ]
  },
  {
   "cell_type": "code",
   "execution_count": null,
   "metadata": {
    "id": "xEvD94YjuE-m"
   },
   "outputs": [],
   "source": [
    "text_connection = pymongo.MongoClient(\"mongodb+srv://<dbusername>:<dbpassword>0.4ppxp.mongodb.net/NLP?retryWrites=true&w=majority\")\n",
    "\n",
    "\n",
    "# Connect to the specified database and collection\n",
    "db = text_connection[\"NLP\"]  # database name\n"
   ]
  },
  {
   "cell_type": "code",
   "execution_count": 19,
   "metadata": {
    "colab": {
     "base_uri": "https://localhost:8080/"
    },
    "id": "mORjbcs5uE-n",
    "outputId": "18ad1397-cded-4152-8bca-345ab9f1644d"
   },
   "outputs": [
    {
     "name": "stdout",
     "output_type": "stream",
     "text": [
      "['doc_metadata', 'Processed_doc']\n"
     ]
    }
   ],
   "source": [
    "# Test the connection by listing collections (optional)\n",
    "try:\n",
    "    print(db.list_collection_names())\n",
    "except Exception as e:\n",
    "    print(f\"Connection failed: {e}\")"
   ]
  },
  {
   "cell_type": "markdown",
   "metadata": {
    "id": "jcbdtxUZw2Hr"
   },
   "source": [
    "Load the metadata for documents into the document metadata collection in NLP database"
   ]
  },
  {
   "cell_type": "code",
   "execution_count": 21,
   "metadata": {
    "id": "fl7oqlMfw2Hs"
   },
   "outputs": [],
   "source": [
    "#lets do loading of the image metadata to image metadata collection\n",
    "#defined the collection\n",
    "doc_metadata_collection = db[\"doc_metadata\"]  # collection name"
   ]
  },
  {
   "cell_type": "code",
   "execution_count": 23,
   "metadata": {
    "id": "sxA56GElw2Hs"
   },
   "outputs": [],
   "source": [
    "import json\n",
    "# Load JSON metadata file\n",
    "with open('/content/text_metadata.json') as file:\n",
    "    doc1_data = json.load(file)\n",
    "\n",
    "# Insert data into MongoDB collection\n",
    "if isinstance(doc1_data, list):\n",
    "    doc_metadata_collection.insert_many(doc1_data)  # For a list of documents\n",
    "else:\n",
    "    doc_metadata_collection.insert_one(doc1_data)  # For a single document"
   ]
  },
  {
   "cell_type": "markdown",
   "metadata": {
    "id": "Sd7xRZgXw2Hs"
   },
   "source": [
    "Load the processed documents into the document collection in NLP database"
   ]
  },
  {
   "cell_type": "code",
   "execution_count": null,
   "metadata": {
    "id": "3Klz7TD8w2Hs"
   },
   "outputs": [],
   "source": [
    "#lets do loading of the processed image to processed image collection\n",
    "#defined the collection\n",
    "processed_doc_collection = db[\"Processed_doc\"]  # Your collection name"
   ]
  },
  {
   "cell_type": "code",
   "execution_count": null,
   "metadata": {
    "id": "Fgg79X-Zw2Hs"
   },
   "outputs": [],
   "source": [
    "import os\n",
    "from datetime import datetime\n",
    "\n",
    "# Specify folder containing your documents\n",
    "document_folder_path = '/content/Documents'\n",
    "\n",
    "# Iterate over all files in the specified folder\n",
    "for filename in os.listdir(document_folder_path):\n",
    "    file_path = os.path.join(document_folder_path, filename)\n",
    "\n",
    "    # Ensure we only process files (skip directories)\n",
    "    if os.path.isfile(file_path):\n",
    "        with open(file_path, \"r\") as file:\n",
    "            # Read the contents of the file as text\n",
    "            file_content = file.read()\n",
    "\n",
    "            # Create a document for insertion into MongoDB\n",
    "            document_data = {\n",
    "                \"filename\": filename,\n",
    "                \"content\": file_content,\n",
    "                \"metadata\": {\n",
    "                    \"processed_date\": datetime.utcnow().isoformat(),\n",
    "                    \"tags\": [\"text\", \"document\"]  # Add any relevant tags as needed\n",
    "                }\n",
    "            }\n",
    "\n",
    "            # Insert the document into the collection\n",
    "            processed_collection.insert_one(document_data)"
   ]
  },
  {
   "cell_type": "markdown",
   "metadata": {
    "id": "tFBInn4M17pb"
   },
   "source": [
    "Extra activities.\n",
    "\n",
    "This is part of the image texture extraction from week 8.\n",
    "\n",
    "Here, Features like Contrast, dissimilarity among others from GLCM are computed"
   ]
  },
  {
   "cell_type": "code",
   "execution_count": 9,
   "metadata": {
    "id": "pMOw4hxseH28"
   },
   "outputs": [],
   "source": [
    "from PIL import Image\n",
    "import numpy as np\n",
    "from skimage.feature import graycomatrix, graycoprops\n",
    "from skimage.color import rgb2gray\n",
    "\n",
    "im_frame = Image.open('/content/fruits.jpg')\n",
    "image = (255*rgb2gray(np.array(im_frame))).astype(np.uint8) # 'Your_2D_np_array'\n",
    "\n",
    "\n",
    "# Generate GLCM\n",
    "distances = [50] # Offset\n",
    "angles = [np.pi/2]  # Vertical Direction\n",
    "glcm = graycomatrix(image, distances=distances, angles=angles,levels=255)\n",
    "\n",
    "\n",
    "# Calculate Features from GLCM\n",
    "contrast = graycoprops(glcm, 'contrast')\n",
    "dissimilarity = graycoprops(glcm, 'dissimilarity')\n",
    "homogeneity = graycoprops(glcm, 'homogeneity')\n",
    "energy = graycoprops(glcm, 'energy')\n",
    "correlation = graycoprops(glcm, 'correlation')"
   ]
  }
 ],
 "metadata": {
  "colab": {
   "provenance": []
  },
  "kernelspec": {
   "display_name": "Python 3",
   "name": "python3"
  },
  "language_info": {
   "name": "python"
  }
 },
 "nbformat": 4,
 "nbformat_minor": 0
}
